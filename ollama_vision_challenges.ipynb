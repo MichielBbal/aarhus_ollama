{
 "cells": [
  {
   "cell_type": "markdown",
   "id": "c409dcaf",
   "metadata": {},
   "source": [
    "# Ollama Vision Challenges\n",
    "\n",
    "**International Business Days Aarhus - November 13th 2024 - Lecturer: Michiel Bontenbal, Amsterdam**\n",
    "\n",
    "Ollama is a tool that allows users to run open-source large language models (LLMs) locally on their machines. It supports a variety of models, including Llama, Code Llama, and others. \n",
    "\n",
    "This notebook contains some example code to run ollama with a Vision-Language Model. \n",
    "\n",
    "First, you'll need to download ollama from www.ollama.com\n",
    "\n",
    "We will use a Vision-Language Model called Moondream, see https://ollama.com/library/moondream\n",
    "\n",
    "### Contents\n",
    "0. Install and settings\n",
    "1. Using ollama vision \n",
    "2. Vision tests\n",
    "3. Webcam challenge\n",
    "4. Screenshot challenge\n",
    "\n",
    "\n",
    "### Sources\n",
    "- ollama: www.ollama.com\n",
    "- ollama python: https://github.com/ollama/ollama-python\n",
    "\n",
    "----\n",
    "Courtesy of some code examples to ollama.com / Jeffrey Morgan.\n",
    "License: MIT License"
   ]
  },
  {
   "cell_type": "markdown",
   "id": "5669c8d4",
   "metadata": {},
   "source": [
    "## 0. Install and settings\n",
    "\n",
    "Make sure you've installed Ollama on your machine before running the code!"
   ]
  },
  {
   "cell_type": "code",
   "execution_count": null,
   "id": "362cea4c",
   "metadata": {},
   "outputs": [],
   "source": [
    "# Check your version of python. To run ollama you will need Python 3.8 or higher.\n",
    "from platform import python_version\n",
    "print(python_version())"
   ]
  },
  {
   "cell_type": "code",
   "execution_count": null,
   "id": "bcd224ea",
   "metadata": {
    "metadata": {}
   },
   "outputs": [],
   "source": [
    "#!pip install ollama --upgrade"
   ]
  },
  {
   "cell_type": "code",
   "execution_count": null,
   "id": "6215465c",
   "metadata": {},
   "outputs": [],
   "source": [
    "# pull models from source; uncomment if necessery\n",
    "import ollama\n",
    "ollama.pull('moondream')"
   ]
  },
  {
   "cell_type": "code",
   "execution_count": null,
   "id": "4446fb78",
   "metadata": {
    "metadata": {}
   },
   "outputs": [],
   "source": [
    "# Script that shows the models on your laptop.\n",
    "import ollama\n",
    "models_dict = ollama.list()\n",
    "models = models_dict['models']\n",
    "model_list = []\n",
    "for i in range(len(models)):\n",
    "    print(models[i]['name'])\n",
    "    model_list.append(models[i]['name'])\n",
    "print(50*'-')\n",
    "print(model_list)"
   ]
  },
  {
   "cell_type": "markdown",
   "id": "934a0022",
   "metadata": {},
   "source": [
    "## 1. Using ollama vision"
   ]
  },
  {
   "cell_type": "code",
   "execution_count": null,
   "id": "e352965c",
   "metadata": {
    "metadata": {}
   },
   "outputs": [],
   "source": [
    "#show the jpg files in your current folder\n",
    "import glob\n",
    "my_jpgs = glob.glob('./images/*.jpg')\n",
    "my_jpgs"
   ]
  },
  {
   "cell_type": "code",
   "execution_count": null,
   "id": "07d24d77",
   "metadata": {
    "metadata": {}
   },
   "outputs": [],
   "source": [
    "#select your image here\n",
    "image_path = './images/man_ironing_taxi.jpg' #select your image"
   ]
  },
  {
   "cell_type": "code",
   "execution_count": null,
   "id": "57e19bd8",
   "metadata": {
    "metadata": {}
   },
   "outputs": [],
   "source": [
    "#show an image\n",
    "import IPython\n",
    "IPython.display.Image(image_path, width=400)"
   ]
  },
  {
   "cell_type": "code",
   "execution_count": null,
   "id": "8a88c33a",
   "metadata": {
    "metadata": {}
   },
   "outputs": [],
   "source": [
    "#may take 30 sec or more...\n",
    "#source: https://github.com/ollama/ollama-python\n",
    "import ollama\n",
    "\n",
    "res = ollama.chat(\n",
    "    model=\"moondream\",\n",
    "    messages=[\n",
    "        {\n",
    "            'role': 'user',\n",
    "            'content': 'Tell me about this image:',\n",
    "            'images': [image_path]\n",
    "        }\n",
    "    ]\n",
    ")\n",
    "\n",
    "print(res['message']['content'])"
   ]
  },
  {
   "cell_type": "markdown",
   "id": "f8843ba2",
   "metadata": {},
   "source": [
    "## 2. Vision exercises\n",
    " \n",
    "- Just some exercises to test the quality of the Vision Language Model (VLM).\n",
    "- Use the images provided on github."
   ]
  },
  {
   "cell_type": "markdown",
   "id": "5c24de28",
   "metadata": {},
   "source": [
    "#### Exercise 1: Cow on the beach\n",
    "\n",
    "Use image 'cow_alps_beach.jpg' en let Moondream describe the image. \n"
   ]
  },
  {
   "cell_type": "code",
   "execution_count": null,
   "id": "fe60a2ee",
   "metadata": {},
   "outputs": [],
   "source": [
    "#YOUR CODE HERE\n",
    "image_path = './images/cow_alps_beach.jpg' #select your image"
   ]
  },
  {
   "cell_type": "markdown",
   "id": "0a57c06e",
   "metadata": {},
   "source": [
    "Explanation: The image of a cow on the beach is a classic in Computer Vision as previous generation of models (CNN's) were not able to detect the cow on the beach. \n",
    "\n",
    "The previous generation (CNN's) used 'supervised learning' meaning they were trained on large, but limited amounts of, labeled examples. But they also took in the background as training (e.g. a green meadow), which resulted in failure for images with a different background. (see https://arxiv.org/abs/1807.04975 Recognition in Terra Incognita). \n",
    "\n",
    "Now Vision Language Models can do it with ease. Progress!"
   ]
  },
  {
   "cell_type": "code",
   "execution_count": null,
   "id": "8781a0fe",
   "metadata": {},
   "outputs": [],
   "source": []
  },
  {
   "cell_type": "markdown",
   "id": "4d1e1f4a",
   "metadata": {},
   "source": [
    "#### Exercise 2:  Chihua or muffin?¶\n",
    "\n",
    "Another classic in Computer Vision. Can the VLM get this right?\n",
    "Use image 'chihuaha-muffin.jpg'."
   ]
  },
  {
   "cell_type": "code",
   "execution_count": null,
   "id": "ab8a92f6",
   "metadata": {},
   "outputs": [],
   "source": [
    "#YOUR CODE HERE"
   ]
  },
  {
   "cell_type": "markdown",
   "id": "322f91da",
   "metadata": {},
   "source": [
    "#### Exercise 3: Count the number of cars\n",
    "How good is Moondream at detection the objects? Can it count all the cars?\n",
    "Use image 'count_cars.jpg'."
   ]
  },
  {
   "cell_type": "code",
   "execution_count": null,
   "id": "9c7a41aa",
   "metadata": {},
   "outputs": [],
   "source": [
    "#YOUR CODE HERE"
   ]
  },
  {
   "cell_type": "markdown",
   "id": "17532bb0",
   "metadata": {},
   "source": [
    "#### Exercise 4: Dog or tiger\n",
    "\n",
    "What does Moondream make of this hard image?\n",
    "Use image 'dog_or_tiger.jpg'"
   ]
  },
  {
   "cell_type": "code",
   "execution_count": null,
   "id": "6500f9c3",
   "metadata": {},
   "outputs": [],
   "source": [
    "#YOUR CODE HERE"
   ]
  },
  {
   "cell_type": "markdown",
   "id": "f37c1d4b",
   "metadata": {},
   "source": [
    "### Exercise 5: select your own image\n",
    "Select an image from the web & let ollama describe it."
   ]
  },
  {
   "cell_type": "code",
   "execution_count": null,
   "id": "bd9984c8",
   "metadata": {},
   "outputs": [],
   "source": [
    "#YOUR CODE HERE"
   ]
  },
  {
   "cell_type": "markdown",
   "id": "8cf263fc",
   "metadata": {},
   "source": [
    "### Short summary\n",
    "\n",
    "Give a short summary how good Moondream performs at these tasks.\n",
    "- image 1:\n",
    "- image 2:\n",
    "- image 3:\n",
    "- image 4:\n",
    "- image 5:"
   ]
  },
  {
   "cell_type": "markdown",
   "id": "72098037",
   "metadata": {},
   "source": [
    "## 3. Ollama Webcam Challenge\n",
    "\n",
    "We will use a script that captures an image with your webcam."
   ]
  },
  {
   "cell_type": "code",
   "execution_count": null,
   "id": "465beeee",
   "metadata": {},
   "outputs": [],
   "source": [
    "!pip install numpy --upgrade\n",
    "!pip install opencv-python --upgrade\n"
   ]
  },
  {
   "cell_type": "code",
   "execution_count": null,
   "id": "4e527d3a",
   "metadata": {},
   "outputs": [],
   "source": [
    "# take an image with your webcam using OpenCV library\n",
    "import cv2\n",
    "camera = cv2.VideoCapture(0)\n",
    "return_value, image = camera.read()\n",
    "cv2.imwrite('webcam.jpg', image)\n",
    "del(camera)"
   ]
  },
  {
   "cell_type": "code",
   "execution_count": null,
   "id": "33b34fed",
   "metadata": {
    "scrolled": true
   },
   "outputs": [],
   "source": [
    "#display the image\n",
    "import IPython\n",
    "IPython.display.Image('webcam.jpg')"
   ]
  },
  {
   "cell_type": "markdown",
   "id": "93b94b76",
   "metadata": {},
   "source": [
    "### Challenge: let ollama describe this image.\n",
    "\n",
    "Use the code given above to let Moondream describe the image."
   ]
  },
  {
   "cell_type": "code",
   "execution_count": null,
   "id": "f14047d3",
   "metadata": {},
   "outputs": [],
   "source": [
    "#YOUR CODE HERE\n"
   ]
  },
  {
   "cell_type": "markdown",
   "id": "d77953f3",
   "metadata": {},
   "source": [
    "What applications can you think of?  Security? Art? Robotics?"
   ]
  },
  {
   "cell_type": "markdown",
   "id": "d6099be5",
   "metadata": {},
   "source": [
    "## 4. Ollama screenshot challenge\n",
    "\n",
    "Use Python to take a screenshot using the pillow library. Then, re-use the ollama code to let llava describe the image.\n",
    "\n",
    "! You might need to authorize VS Code (or your editor) to take screenshot on MacOS. !\n"
   ]
  },
  {
   "cell_type": "code",
   "execution_count": null,
   "id": "586c882c",
   "metadata": {},
   "outputs": [],
   "source": [
    "%pip install pillow"
   ]
  },
  {
   "cell_type": "code",
   "execution_count": null,
   "id": "553cedd7",
   "metadata": {},
   "outputs": [],
   "source": [
    "from PIL import ImageGrab\n",
    "import time\n",
    "\n",
    "#first wait 5 seconds so you can minimize VS code... \n",
    "time.sleep(5)\n",
    "\n",
    "# Capture the entire screen\n",
    "screenshot = ImageGrab.grab()\n",
    "\n",
    "# Save the screenshot to a file\n",
    "screenshot.save(\"screenshot.png\")\n",
    "\n",
    "# Close the screenshot\n",
    "screenshot.close()"
   ]
  },
  {
   "cell_type": "code",
   "execution_count": null,
   "id": "2edd1ad8",
   "metadata": {},
   "outputs": [],
   "source": [
    "#YOUR CODE HERE TO DESCRIBE THE SCREENSHOT YOU JUST TOOK\n"
   ]
  }
 ],
 "metadata": {
  "kernelspec": {
   "display_name": "Python 3",
   "language": "python",
   "name": "python3"
  },
  "language_info": {
   "codemirror_mode": {
    "name": "ipython",
    "version": 3
   },
   "file_extension": ".py",
   "mimetype": "text/x-python",
   "name": "python",
   "nbconvert_exporter": "python",
   "pygments_lexer": "ipython3",
   "version": "3.10.9"
  }
 },
 "nbformat": 4,
 "nbformat_minor": 5
}
