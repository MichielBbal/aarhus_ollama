{
 "cells": [
  {
   "cell_type": "markdown",
   "metadata": {},
   "source": [
    "# Bonus Ollama RAG exercises\n",
    "\n",
    "**International Business Days Aarhus - November 13th 2024 - Lecturer: Michiel Bontenbal, Amsterdam**\n",
    "\n",
    "Just some code to learn more about RAG. Don't expect too much of it, it's just fun! \n",
    "\n",
    "### Contents\n",
    "1. Learn the theory of cosines similarity\n",
    "2. Create embeddings with ollama.\n",
    "3. Calculate cosine similarity between two sentences\n",
    "4. Convert a pdf to text"
   ]
  },
  {
   "cell_type": "code",
   "execution_count": null,
   "metadata": {},
   "outputs": [],
   "source": [
    "!pip install matplotlib --upgrade\n",
    "!pip install ollama"
   ]
  },
  {
   "cell_type": "code",
   "execution_count": null,
   "metadata": {},
   "outputs": [],
   "source": [
    "import matplotlib.pyplot as plt"
   ]
  },
  {
   "cell_type": "markdown",
   "metadata": {
    "metadata": {}
   },
   "source": [
    "## 1. Learn theory of cosine similarity"
   ]
  },
  {
   "cell_type": "code",
   "execution_count": null,
   "metadata": {
    "metadata": {}
   },
   "outputs": [],
   "source": [
    "#Define two points\n",
    "\n",
    "# Choose values [1-10] (integers/floats) to properly plot it below\n",
    "# point 1\n",
    "p1x = 4\n",
    "p1y = 3\n",
    "\n",
    "#point 2\n",
    "p2x = 3\n",
    "p2y = 4"
   ]
  },
  {
   "cell_type": "code",
   "execution_count": null,
   "metadata": {
    "metadata": {}
   },
   "outputs": [],
   "source": [
    "#function to calculate cosine similarity\n",
    "def cosine_similarity(a, b):\n",
    "    dot_product = sum(x * y for x, y in zip(a, b))\n",
    "    magnitude_a = sum(x * x for x in a) ** 0.5\n",
    "    magnitude_b = sum(x * x for x in b) ** 0.5\n",
    "    cos_sim = dot_product / (magnitude_a * magnitude_b)\n",
    "    return cos_sim\n",
    "\n",
    "p1x, p1y = 1, 2  # Example values for the first vector\n",
    "p2x, p2y = 3, 4  # Example values for the second vector\n",
    "\n",
    "result = cosine_similarity((p1x, p1y), (p2x, p2y))\n",
    "print(result)"
   ]
  },
  {
   "cell_type": "code",
   "execution_count": null,
   "metadata": {
    "metadata": {}
   },
   "outputs": [],
   "source": [
    "#plot the points and create a vector from 0,0\n",
    "%matplotlib inline\n",
    "import matplotlib.pyplot as plt \n",
    "\n",
    "#get points and plot them\n",
    "points_x = p1x, p2x\n",
    "points_y = p1y, p2y\n",
    "plt.plot(points_x, points_y, 'o') \n",
    "\n",
    "#plot vectors \n",
    "plt.quiver([0, 0], [0, 0], [p1x, p2x], [p1y,p2y], angles='xy', scale_units='xy', scale=1)\n",
    "\n",
    "#plot axes and show it\n",
    "plt.title(f'Cosine similarity: {result}')\n",
    "plt.xlim(0, 10)\n",
    "plt.ylim(0, 10)\n",
    "plt.show()"
   ]
  },
  {
   "cell_type": "markdown",
   "metadata": {},
   "source": [
    "### Exercise 1: \n",
    "1. play with the points and see what happens\n",
    "2. create two examples:\n",
    "    - Where cosine similarity is 1\n",
    "    - Where cosine similarity is 0"
   ]
  },
  {
   "cell_type": "markdown",
   "metadata": {},
   "source": [
    "## 2. Create embeddings with ollama. Compare two models in speed."
   ]
  },
  {
   "cell_type": "code",
   "execution_count": null,
   "metadata": {
    "metadata": {}
   },
   "outputs": [],
   "source": [
    "#check if you have to nomic-embed-text\n",
    "!ollama list"
   ]
  },
  {
   "cell_type": "code",
   "execution_count": null,
   "metadata": {
    "metadata": {}
   },
   "outputs": [],
   "source": [
    "%%time \n",
    "import ollama\n",
    "ollama.embeddings(model='llama3.2', prompt='The dog ran fast')"
   ]
  },
  {
   "cell_type": "code",
   "execution_count": null,
   "metadata": {
    "metadata": {}
   },
   "outputs": [],
   "source": [
    "%%time\n",
    "import ollama\n",
    "ollama.embeddings(model='nomic-embed-text', prompt='The dog ran fast')"
   ]
  },
  {
   "cell_type": "markdown",
   "metadata": {},
   "source": [
    "## 3. Calculate cosine similarity between to sentences\n",
    "\n",
    "In this code example we will use PyTorch to calculate the cosine similarity between two texts."
   ]
  },
  {
   "cell_type": "code",
   "execution_count": null,
   "metadata": {
    "metadata": {}
   },
   "outputs": [],
   "source": [
    "!pip install torch"
   ]
  },
  {
   "cell_type": "code",
   "execution_count": null,
   "metadata": {
    "metadata": {}
   },
   "outputs": [],
   "source": [
    "import ollama\n",
    "import torch\n",
    "sentence1 = 'The dog ran fast'\n",
    "embeddings_dict = ollama.embeddings(model='nomic-embed-text', prompt=sentence1)\n",
    "#embeddings_0 = embeddings_dict['embedding']\n",
    "embeddings_0 = torch.tensor(embeddings_dict['embedding'])\n",
    "\n",
    "print(sentence1)\n",
    "print(len(embeddings_0))\n",
    "print(embeddings_0)"
   ]
  },
  {
   "cell_type": "code",
   "execution_count": null,
   "metadata": {
    "metadata": {}
   },
   "outputs": [],
   "source": [
    "%%time\n",
    "import ollama\n",
    "sentence2 = 'The cat ran fast'\n",
    "embeddings_dict = ollama.embeddings(model='nomic-embed-text', prompt=sentence2)\n",
    "embeddings_1 = torch.tensor(embeddings_dict['embedding'])\n",
    "\n",
    "print(sentence2)\n",
    "print(len(embeddings_1))\n",
    "print(embeddings_1)"
   ]
  },
  {
   "cell_type": "code",
   "execution_count": null,
   "metadata": {
    "metadata": {}
   },
   "outputs": [],
   "source": [
    "import torch\n",
    "#calculate the cosine similarity\n",
    "cos = torch.nn.CosineSimilarity(dim=0)\n",
    "\n",
    "similarity = cos(embeddings_0,embeddings_1).item()\n",
    "similarity = (similarity+1)/2\n",
    "\n",
    "print(sentence1)\n",
    "print(sentence2)\n",
    "print(f\"Cosine similarity: {round(similarity,5)}\")\n"
   ]
  },
  {
   "cell_type": "markdown",
   "metadata": {},
   "source": [
    "## 4. Convert a .pdf to .txt"
   ]
  },
  {
   "cell_type": "code",
   "execution_count": null,
   "metadata": {},
   "outputs": [],
   "source": [
    "pip install requests"
   ]
  },
  {
   "cell_type": "code",
   "execution_count": null,
   "metadata": {
    "metadata": {}
   },
   "outputs": [],
   "source": [
    "!pip install PyPDF2"
   ]
  },
  {
   "cell_type": "code",
   "execution_count": null,
   "metadata": {
    "metadata": {}
   },
   "outputs": [],
   "source": [
    "from PyPDF2 import PdfReader"
   ]
  },
  {
   "cell_type": "code",
   "execution_count": null,
   "metadata": {},
   "outputs": [],
   "source": [
    "import requests\n",
    "\n",
    "url = 'https://assets.scriptslug.com/live/pdf/scripts/pulp-fiction-1994.pdf'\n",
    "response = requests.get(url)\n",
    "\n",
    "with open('pulp-fiction-1994.pdf', 'wb') as file:\n",
    "    file.write(response.content)"
   ]
  },
  {
   "cell_type": "code",
   "execution_count": null,
   "metadata": {
    "metadata": {}
   },
   "outputs": [],
   "source": [
    "# Select the .pdf file to read \n",
    "reader = PdfReader('./pulp-fiction-1994.pdf')\n",
    "reader"
   ]
  },
  {
   "cell_type": "code",
   "execution_count": null,
   "metadata": {
    "metadata": {}
   },
   "outputs": [],
   "source": [
    "# read data from the file and put them into a variable called raw_text\n",
    "raw_text = ''\n",
    "for i, page in enumerate(reader.pages):\n",
    "    text = page.extract_text()\n",
    "    if text:\n",
    "        raw_text += text\n",
    "print(raw_text[:200])\n",
    "print(50 * '-')\n",
    "print(f'The text is {len(raw_text)} characters')"
   ]
  },
  {
   "cell_type": "code",
   "execution_count": null,
   "metadata": {
    "metadata": {}
   },
   "outputs": [],
   "source": [
    "#save raw_text to a .txt file\n",
    "file = open(\"pulp_fiction.txt\", \"w\") #w for write\n",
    "file.write(raw_text)\n",
    "file.close()"
   ]
  }
 ],
 "metadata": {
  "kernelspec": {
   "display_name": "py312_env",
   "language": "python",
   "name": "python3"
  },
  "language_info": {
   "codemirror_mode": {
    "name": "ipython",
    "version": 3
   },
   "file_extension": ".py",
   "mimetype": "text/x-python",
   "name": "python",
   "nbconvert_exporter": "python",
   "pygments_lexer": "ipython3",
   "version": "3.12.7"
  }
 },
 "nbformat": 4,
 "nbformat_minor": 2
}
